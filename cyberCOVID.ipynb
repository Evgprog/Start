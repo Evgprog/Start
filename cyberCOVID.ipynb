{
 "metadata": {
  "language_info": {
   "codemirror_mode": {
    "name": "ipython",
    "version": 3
   },
   "file_extension": ".py",
   "mimetype": "text/x-python",
   "name": "python",
   "nbconvert_exporter": "python",
   "pygments_lexer": "ipython3",
   "version": "3.7.4-final"
  },
  "orig_nbformat": 2,
  "kernelspec": {
   "name": "python37464bit449d0905947c4d6ca84fddfbe8e44641",
   "display_name": "Python 3.7.4 64-bit"
  }
 },
 "nbformat": 4,
 "nbformat_minor": 2,
 "cells": [
  {
   "cell_type": "code",
   "execution_count": 6,
   "metadata": {},
   "outputs": [
    {
     "output_type": "stream",
     "name": "stdout",
     "text": [
      "numpy version: 1.19.0\npandas version: 1.0.5\n"
     ]
    }
   ],
   "source": [
    "import io\n",
    "import numpy as np\n",
    "import pandas as pd\n",
    "import requests\n",
    "\n",
    "print('{} version: {}'.format(np.__name__, np.__version__))\n",
    "print('{} version: {}'.format(pd.__name__, pd.__version__))"
   ]
  },
  {
   "cell_type": "code",
   "execution_count": 8,
   "metadata": {},
   "outputs": [
    {
     "output_type": "stream",
     "name": "stdout",
     "text": [
      "<class 'pandas.core.frame.DataFrame'>\nRangeIndex: 272 entries, 0 to 271\nData columns (total 37 columns):\n #   Column      Non-Null Count  Dtype  \n---  ------      --------------  -----  \n 0   City        272 non-null    object \n 1   Population  272 non-null    object \n 2   01/04/2020  23 non-null     float64\n 3   03/04/2020  153 non-null    float64\n 4   05/04/2020  187 non-null    float64\n 5   06/04/2020  189 non-null    float64\n 6   07/04/2020  190 non-null    float64\n 7   09/04/2020  190 non-null    float64\n 8   11/04/2020  190 non-null    float64\n 9   12/04/2020  190 non-null    float64\n 10  13/04/2020  190 non-null    float64\n 11  14/04/2020  190 non-null    float64\n 12  16/04/2020  190 non-null    float64\n 13  17/04/2020  190 non-null    float64\n 14  18/04/2020  190 non-null    float64\n 15  19/04/2020  190 non-null    float64\n 16  20/04/2020  190 non-null    float64\n 17  23/04/2020  188 non-null    float64\n 18  24/04/2020  190 non-null    float64\n 19  26/04/2020  190 non-null    float64\n 20  29/04/2020  190 non-null    object \n 21  30/04/2020  190 non-null    object \n 22  01/05/2020  190 non-null    object \n 23  02/05/2020  190 non-null    object \n 24  04/05/2020  190 non-null    object \n 25  05/05/2020  190 non-null    object \n 26  06/05/2020  267 non-null    object \n 27  08/05/2020  267 non-null    object \n 28  09/05/2020  267 non-null    object \n 29  10/05/2020  267 non-null    object \n 30  15/05/2020  267 non-null    object \n 31  18/05/2020  267 non-null    object \n 32  21/05/2020  267 non-null    object \n 33  24/05/2020  266 non-null    object \n 34  29/05/2020  267 non-null    object \n 35  30/05/2020  267 non-null    object \n 36  02/06/2020  272 non-null    object \ndtypes: float64(18), object(19)\nmemory usage: 78.8+ KB\n"
     ]
    }
   ],
   "source": [
    "url = \"https://raw.githubusercontent.com/idandrd/israel-covid19-data/master/CityData.csv\"\n",
    "s=requests.get(url).content\n",
    "df = pd.read_csv(io.StringIO(s.decode('utf-8')))\n",
    "df.info()"
   ]
  },
  {
   "cell_type": "code",
   "execution_count": null,
   "metadata": {},
   "outputs": [],
   "source": []
  }
 ]
}